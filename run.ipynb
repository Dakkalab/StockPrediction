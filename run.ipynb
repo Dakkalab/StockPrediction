{
 "cells": [
  {
   "cell_type": "markdown",
   "metadata": {},
   "source": [
    "# データ取得(NVIDIA)"
   ]
  },
  {
   "cell_type": "code",
   "execution_count": 1,
   "metadata": {},
   "outputs": [],
   "source": [
    "import yfinance as yf\n",
    "import pandas as pd\n",
    "import sys\n",
    "sys.path.append(\"./src\")\n",
    "import PreProcess"
   ]
  },
  {
   "cell_type": "code",
   "execution_count": null,
   "metadata": {},
   "outputs": [],
   "source": [
    "#run if needed\n",
    "# NVIDIAのティッカーシンボル（NVDA）\n",
    "ticker = \"NVDA\"\n",
    "# 20年分のデータを取得\n",
    "data = yf.download(ticker, start=\"2004-01-01\", end=\"2024-01-01\")\n",
    "# データを確認\n",
    "print(data.head())"
   ]
  },
  {
   "cell_type": "code",
   "execution_count": null,
   "metadata": {},
   "outputs": [],
   "source": [
    "filename = \"nvidia_20y_stock_data.csv\"\n",
    "data.to_csv(f\"./RawData/{filename}\")"
   ]
  },
  {
   "cell_type": "code",
   "execution_count": 4,
   "metadata": {},
   "outputs": [
    {
     "name": "stdout",
     "output_type": "stream",
     "text": [
      "Index(['Date', 'Adj Close', 'Close', 'High', 'Low', 'Open', 'Volume'], dtype='object')\n"
     ]
    }
   ],
   "source": [
    "filename = \"nvidia_20y_stock_data.csv\"\n",
    "data = pd.read_csv(f\"./RawData/{filename}\")\n",
    "print(data.columns)"
   ]
  },
  {
   "cell_type": "markdown",
   "metadata": {},
   "source": [
    "# PreProcess"
   ]
  },
  {
   "cell_type": "code",
   "execution_count": null,
   "metadata": {},
   "outputs": [
    {
     "ename": "AttributeError",
     "evalue": "'PreProcess' object has no attribute 'PreProcess'",
     "output_type": "error",
     "traceback": [
      "\u001b[0;31m---------------------------------------------------------------------------\u001b[0m",
      "\u001b[0;31mAttributeError\u001b[0m                            Traceback (most recent call last)",
      "Cell \u001b[0;32mIn[6], line 11\u001b[0m\n\u001b[1;32m      8\u001b[0m pred_future_frame \u001b[38;5;241m=\u001b[39m \u001b[38;5;241m1\u001b[39m \u001b[38;5;66;03m#次の日 or 3日後 (恐らく土日を挟んでいる)\u001b[39;00m\n\u001b[1;32m      9\u001b[0m target_cols \u001b[38;5;241m=\u001b[39m  [\u001b[38;5;124m'\u001b[39m\u001b[38;5;124mAdj Close\u001b[39m\u001b[38;5;124m'\u001b[39m, \u001b[38;5;124m'\u001b[39m\u001b[38;5;124mClose\u001b[39m\u001b[38;5;124m'\u001b[39m,  \u001b[38;5;124m'\u001b[39m\u001b[38;5;124mHigh\u001b[39m\u001b[38;5;124m'\u001b[39m, \u001b[38;5;124m'\u001b[39m\u001b[38;5;124mLow\u001b[39m\u001b[38;5;124m'\u001b[39m,  \u001b[38;5;124m'\u001b[39m\u001b[38;5;124mOpen\u001b[39m\u001b[38;5;124m'\u001b[39m, \u001b[38;5;124m'\u001b[39m\u001b[38;5;124mVolume\u001b[39m\u001b[38;5;124m'\u001b[39m]\n\u001b[0;32m---> 11\u001b[0m PreProcess \u001b[38;5;241m=\u001b[39m \u001b[43mPreProcess\u001b[49m\u001b[38;5;241;43m.\u001b[39;49m\u001b[43mPreProcess\u001b[49m(train_rate \u001b[38;5;241m=\u001b[39m train_rate, eval_rate \u001b[38;5;241m=\u001b[39m eval_rate, test_rate \u001b[38;5;241m=\u001b[39m test_rate)\n\u001b[1;32m     12\u001b[0m PreProcess\u001b[38;5;241m.\u001b[39mpreprocess_edit(input_path \u001b[38;5;241m=\u001b[39m input_path, output_path \u001b[38;5;241m=\u001b[39m output_path, pred_future_frame \u001b[38;5;241m=\u001b[39m pred_future_frame, target_cols \u001b[38;5;241m=\u001b[39m target_cols)\n",
      "\u001b[0;31mAttributeError\u001b[0m: 'PreProcess' object has no attribute 'PreProcess'"
     ]
    }
   ],
   "source": [
    "#load csv file\n",
    "input_path = \"./RawData/nvidia\"\n",
    "output_path = \"./PreProcessedData/nvidia\"\n",
    "train_rate = 0.8\n",
    "eval_rate = 0.1\n",
    "test_rate = 0.1\n",
    "frames_num = 15\n",
    "pred_future_frame = 1 #次の日 or 3日後 (恐らく土日を挟んでいる)\n",
    "target_cols =  ['Adj Close', 'Close',  'High', 'Low',  'Open', 'Volume']\n",
    "\n",
    "PreProcess = PreProcess.PreProcess(train_rate = train_rate, eval_rate = eval_rate, test_rate = test_rate)\n",
    "PreProcess.preprocess_edit(input_path = input_path, output_path = output_path, pred_future_frame = pred_future_frame, target_cols = target_cols)"
   ]
  },
  {
   "cell_type": "code",
   "execution_count": null,
   "metadata": {},
   "outputs": [],
   "source": []
  }
 ],
 "metadata": {
  "kernelspec": {
   "display_name": "venv_Mac",
   "language": "python",
   "name": "python3"
  },
  "language_info": {
   "codemirror_mode": {
    "name": "ipython",
    "version": 3
   },
   "file_extension": ".py",
   "mimetype": "text/x-python",
   "name": "python",
   "nbconvert_exporter": "python",
   "pygments_lexer": "ipython3",
   "version": "3.12.3"
  }
 },
 "nbformat": 4,
 "nbformat_minor": 2
}
