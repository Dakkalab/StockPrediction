{
 "cells": [
  {
   "cell_type": "markdown",
   "metadata": {},
   "source": [
    "# データ取得(NVIDIA)"
   ]
  },
  {
   "cell_type": "markdown",
   "metadata": {},
   "source": [
    "# Import"
   ]
  },
  {
   "cell_type": "code",
   "execution_count": 1,
   "metadata": {},
   "outputs": [],
   "source": [
    "import yfinance as yf\n",
    "import pandas as pd\n",
    "import sys\n",
    "sys.path.append(\"./src\")"
   ]
  },
  {
   "cell_type": "code",
   "execution_count": 2,
   "metadata": {},
   "outputs": [],
   "source": [
    "import PreProcess\n",
    "import Learn\n",
    "import DataSets\n",
    "import Models"
   ]
  },
  {
   "cell_type": "code",
   "execution_count": null,
   "metadata": {},
   "outputs": [],
   "source": [
    "#run if needed\n",
    "# NVIDIAのティッカーシンボル（NVDA）\n",
    "ticker = \"NVDA\"\n",
    "# 20年分のデータを取得\n",
    "data = yf.download(ticker, start=\"2004-01-01\", end=\"2024-01-01\")\n",
    "# データを確認\n",
    "print(data.head())"
   ]
  },
  {
   "cell_type": "code",
   "execution_count": null,
   "metadata": {},
   "outputs": [],
   "source": [
    "filename = \"nvidia_20y_stock_data.csv\"\n",
    "data.to_csv(f\"./RawData/{filename}\")"
   ]
  },
  {
   "cell_type": "code",
   "execution_count": null,
   "metadata": {},
   "outputs": [],
   "source": [
    "filename = \"nvidia_20y_stock_data.csv\"\n",
    "data = pd.read_csv(f\"./RawData/{filename}\")\n",
    "print(data.columns)"
   ]
  },
  {
   "cell_type": "markdown",
   "metadata": {},
   "source": [
    "# PreProcess"
   ]
  },
  {
   "cell_type": "code",
   "execution_count": 3,
   "metadata": {},
   "outputs": [
    {
     "name": "stderr",
     "output_type": "stream",
     "text": [
      "100%|██████████| 1/1 [00:00<00:00, 386.29it/s]\n",
      "100%|██████████| 1/1 [00:06<00:00,  6.41s/it]\n"
     ]
    }
   ],
   "source": [
    "#load csv file\n",
    "input_path = \"./RawData/nvidia\"\n",
    "output_path = \"./PreProcessedData/nvidia\"\n",
    "train_rate = 0.8\n",
    "eval_rate = 0.1\n",
    "test_rate = 0.1\n",
    "frames_num = 15 # LSTMならseq_lenと等価\n",
    "pred_future_frame = 1 #次の日 or 3日後 (恐らく土日を挟んでいる)\n",
    "target_cols =  ['Adj Close', 'Close',  'High', 'Low',  'Open', 'Volume']\n",
    "\n",
    "PreProcess = PreProcess.PreProcess(train_rate = train_rate, eval_rate = eval_rate, test_rate = test_rate)\n",
    "PreProcess.preprocess_edit(input_path = input_path, output_path = output_path, frames_num = frames_num, pred_future_frame = pred_future_frame, target_cols = target_cols)"
   ]
  },
  {
   "cell_type": "code",
   "execution_count": 4,
   "metadata": {},
   "outputs": [
    {
     "name": "stdout",
     "output_type": "stream",
     "text": [
      "torch.Size([15, 6])\n"
     ]
    },
    {
     "name": "stderr",
     "output_type": "stream",
     "text": [
      "C:\\Users\\hidak\\AppData\\Local\\Temp\\ipykernel_8892\\856376336.py:3: FutureWarning: You are using `torch.load` with `weights_only=False` (the current default value), which uses the default pickle module implicitly. It is possible to construct malicious pickle data which will execute arbitrary code during unpickling (See https://github.com/pytorch/pytorch/blob/main/SECURITY.md#untrusted-models for more details). In a future release, the default value for `weights_only` will be flipped to `True`. This limits the functions that could be executed during unpickling. Arbitrary objects will no longer be allowed to be loaded via this mode unless they are explicitly allowlisted by the user via `torch.serialization.add_safe_globals`. We recommend you start setting `weights_only=True` for any use case where you don't have full control of the loaded file. Please open an issue on GitHub for any issues related to this experimental feature.\n",
      "  file = torch.load(\"PreProcessedData/nvidia/Train/X/4046.pt\")\n"
     ]
    }
   ],
   "source": [
    "#debug\n",
    "import torch\n",
    "file = torch.load(\"PreProcessedData/nvidia/Train/X/4046.pt\")\n",
    "print(file.shape)"
   ]
  },
  {
   "cell_type": "markdown",
   "metadata": {},
   "source": [
    "# Learn"
   ]
  },
  {
   "cell_type": "code",
   "execution_count": 1,
   "metadata": {},
   "outputs": [],
   "source": [
    "import yfinance as yf\n",
    "import pandas as pd\n",
    "import sys\n",
    "sys.path.append(\"./src\")\n",
    "import PreProcess\n",
    "import Learn\n",
    "import DataSets\n",
    "import Models"
   ]
  },
  {
   "cell_type": "code",
   "execution_count": null,
   "metadata": {},
   "outputs": [
    {
     "name": "stdout",
     "output_type": "stream",
     "text": [
      "tensorboard --logdir=runs/Aug_CF_1_20241110181444\n"
     ]
    },
    {
     "name": "stderr",
     "output_type": "stream",
     "text": [
      "  0%|          | 0/4047 [00:00<?, ?it/s]c:\\Users\\hidak\\research\\StockPrediction\\src\\DataSets.py:189: FutureWarning: You are using `torch.load` with `weights_only=False` (the current default value), which uses the default pickle module implicitly. It is possible to construct malicious pickle data which will execute arbitrary code during unpickling (See https://github.com/pytorch/pytorch/blob/main/SECURITY.md#untrusted-models for more details). In a future release, the default value for `weights_only` will be flipped to `True`. This limits the functions that could be executed during unpickling. Arbitrary objects will no longer be allowed to be loaded via this mode unless they are explicitly allowlisted by the user via `torch.serialization.add_safe_globals`. We recommend you start setting `weights_only=True` for any use case where you don't have full control of the loaded file. Please open an issue on GitHub for any issues related to this experimental feature.\n",
      "  self.dataX.append(torch.load(dataPath).to(self.device))\n",
      "100%|██████████| 4047/4047 [00:01<00:00, 3027.90it/s]\n",
      "  0%|          | 0/4047 [00:00<?, ?it/s]c:\\Users\\hidak\\research\\StockPrediction\\src\\DataSets.py:194: FutureWarning: You are using `torch.load` with `weights_only=False` (the current default value), which uses the default pickle module implicitly. It is possible to construct malicious pickle data which will execute arbitrary code during unpickling (See https://github.com/pytorch/pytorch/blob/main/SECURITY.md#untrusted-models for more details). In a future release, the default value for `weights_only` will be flipped to `True`. This limits the functions that could be executed during unpickling. Arbitrary objects will no longer be allowed to be loaded via this mode unless they are explicitly allowlisted by the user via `torch.serialization.add_safe_globals`. We recommend you start setting `weights_only=True` for any use case where you don't have full control of the loaded file. Please open an issue on GitHub for any issues related to this experimental feature.\n",
      "  self.dataY.append(torch.load(dataPath).to(self.device))\n",
      "100%|██████████| 4047/4047 [00:01<00:00, 3473.12it/s]\n",
      "100%|██████████| 503/503 [00:00<00:00, 3465.63it/s]\n",
      "100%|██████████| 503/503 [00:00<00:00, 3397.16it/s]\n",
      "100%|██████████| 467/467 [00:00<00:00, 3496.84it/s]\n",
      "100%|██████████| 467/467 [00:00<00:00, 3223.20it/s]\n"
     ]
    },
    {
     "name": "stdout",
     "output_type": "stream",
     "text": [
      "torch.Size([15, 6]) torch.Size([6])\n"
     ]
    },
    {
     "name": "stderr",
     "output_type": "stream",
     "text": [
      "  0%|          | 0/2500 [00:01<?, ?it/s]\n"
     ]
    },
    {
     "ename": "RuntimeError",
     "evalue": "shape '[10, 15, 6]' is invalid for input of size 630",
     "output_type": "error",
     "traceback": [
      "\u001b[1;31m---------------------------------------------------------------------------\u001b[0m",
      "\u001b[1;31mRuntimeError\u001b[0m                              Traceback (most recent call last)",
      "Cell \u001b[1;32mIn[2], line 11\u001b[0m\n\u001b[0;32m      9\u001b[0m loader \u001b[38;5;241m=\u001b[39m learn\u001b[38;5;241m.\u001b[39mdata_loader_forLSTM(folder_path \u001b[38;5;241m=\u001b[39m folder_path, DataSetsClass \u001b[38;5;241m=\u001b[39m DataSets\u001b[38;5;241m.\u001b[39mStockPriceDataSet_forLSTM)\n\u001b[0;32m     10\u001b[0m criterion, optimizer \u001b[38;5;241m=\u001b[39m learn\u001b[38;5;241m.\u001b[39mnetwork_forLSTM(learning_Model \u001b[38;5;241m=\u001b[39m Models\u001b[38;5;241m.\u001b[39mStockPriceLSTM(input_size \u001b[38;5;241m=\u001b[39m points_num, hidden_size \u001b[38;5;241m=\u001b[39m \u001b[38;5;241m32\u001b[39m, num_layers \u001b[38;5;241m=\u001b[39m \u001b[38;5;241m3\u001b[39m, dropout \u001b[38;5;241m=\u001b[39m \u001b[38;5;241m0.1\u001b[39m, seq_len \u001b[38;5;241m=\u001b[39m \u001b[38;5;241m15\u001b[39m, output_size \u001b[38;5;241m=\u001b[39m \u001b[38;5;241m6\u001b[39m), lr \u001b[38;5;241m=\u001b[39m \u001b[38;5;241m1e-4\u001b[39m, weight_decay \u001b[38;5;241m=\u001b[39m \u001b[38;5;241m5e-5\u001b[39m)\n\u001b[1;32m---> 11\u001b[0m \u001b[43mlearn\u001b[49m\u001b[38;5;241;43m.\u001b[39;49m\u001b[43mlearn\u001b[49m\u001b[43m(\u001b[49m\u001b[43mcriterion\u001b[49m\u001b[38;5;241;43m=\u001b[39;49m\u001b[43mcriterion\u001b[49m\u001b[43m,\u001b[49m\u001b[43m \u001b[49m\u001b[43moptimizer\u001b[49m\u001b[38;5;241;43m=\u001b[39;49m\u001b[43moptimizer\u001b[49m\u001b[43m,\u001b[49m\u001b[43m \u001b[49m\u001b[43mn_epochs\u001b[49m\u001b[43m \u001b[49m\u001b[38;5;241;43m=\u001b[39;49m\u001b[43m \u001b[49m\u001b[38;5;241;43m2500\u001b[39;49m\u001b[43m)\u001b[49m\n",
      "File \u001b[1;32mc:\\Users\\hidak\\research\\StockPrediction\\src\\Learn.py:135\u001b[0m, in \u001b[0;36mLearn.learn\u001b[1;34m(self, criterion, optimizer, n_epochs)\u001b[0m\n\u001b[0;32m    133\u001b[0m trainLossSum \u001b[38;5;241m=\u001b[39m \u001b[38;5;241m0\u001b[39m\n\u001b[0;32m    134\u001b[0m \u001b[38;5;28;01mfor\u001b[39;00m x_train, y_train \u001b[38;5;129;01min\u001b[39;00m \u001b[38;5;28mself\u001b[39m\u001b[38;5;241m.\u001b[39mtrainLoader:\n\u001b[1;32m--> 135\u001b[0m     x_train \u001b[38;5;241m=\u001b[39m \u001b[43mx_train\u001b[49m\u001b[38;5;241;43m.\u001b[39;49m\u001b[43mview\u001b[49m\u001b[43m(\u001b[49m\u001b[38;5;28;43mself\u001b[39;49m\u001b[38;5;241;43m.\u001b[39;49m\u001b[43mbatch_size\u001b[49m\u001b[43m,\u001b[49m\u001b[43m \u001b[49m\u001b[38;5;28;43mself\u001b[39;49m\u001b[38;5;241;43m.\u001b[39;49m\u001b[43mseq_len\u001b[49m\u001b[43m,\u001b[49m\u001b[43m \u001b[49m\u001b[38;5;28;43mself\u001b[39;49m\u001b[38;5;241;43m.\u001b[39;49m\u001b[43mpoints_num\u001b[49m\u001b[43m)\u001b[49m\n\u001b[0;32m    136\u001b[0m     y_pred \u001b[38;5;241m=\u001b[39m \u001b[38;5;28mself\u001b[39m\u001b[38;5;241m.\u001b[39mmodel(x_train)\n\u001b[0;32m    137\u001b[0m     loss \u001b[38;5;241m=\u001b[39m criterion(y_pred, y_train)\n",
      "\u001b[1;31mRuntimeError\u001b[0m: shape '[10, 15, 6]' is invalid for input of size 630"
     ]
    }
   ],
   "source": [
    "points_num = 6\n",
    "frames_num = 15\n",
    "pred_future_frame = 1\n",
    "batch_size = 10\n",
    "modelSaveSpan = 10\n",
    "seq_len = 15\n",
    "folder_path = \"PreProcessedData/nvidia\"\n",
    "learn = Learn.Learn(points_num = points_num, frames_num = frames_num, pred_future_frame = pred_future_frame, batch_size = batch_size, seq_len = seq_len, modelSaveSpan = modelSaveSpan)\n",
    "loader = learn.data_loader_forLSTM(folder_path = folder_path, DataSetsClass = DataSets.StockPriceDataSet_forLSTM)\n",
    "criterion, optimizer = learn.network_forLSTM(learning_Model = Models.StockPriceLSTM(input_size = points_num, hidden_size = 32, num_layers = 3, dropout = 0.1, seq_len = 15, output_size = 6), lr = 1e-4, weight_decay = 5e-5)\n",
    "learn.learn_forLSTM(criterion=criterion, optimizer=optimizer, n_epochs = 2500)"
   ]
  }
 ],
 "metadata": {
  "kernelspec": {
   "display_name": "py312-gpu",
   "language": "python",
   "name": "python3"
  },
  "language_info": {
   "codemirror_mode": {
    "name": "ipython",
    "version": 3
   },
   "file_extension": ".py",
   "mimetype": "text/x-python",
   "name": "python",
   "nbconvert_exporter": "python",
   "pygments_lexer": "ipython3",
   "version": "3.12.3"
  }
 },
 "nbformat": 4,
 "nbformat_minor": 2
}
