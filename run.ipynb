{
 "cells": [
  {
   "cell_type": "markdown",
   "metadata": {},
   "source": [
    "# データ取得(NVIDIA)"
   ]
  },
  {
   "cell_type": "markdown",
   "metadata": {},
   "source": [
    "# Import"
   ]
  },
  {
   "cell_type": "code",
   "execution_count": 1,
   "metadata": {},
   "outputs": [],
   "source": [
    "import yfinance as yf\n",
    "import pandas as pd\n",
    "import sys\n",
    "sys.path.append(\"./src\")"
   ]
  },
  {
   "cell_type": "code",
   "execution_count": 2,
   "metadata": {},
   "outputs": [],
   "source": [
    "import PreProcess\n",
    "import Learn\n",
    "import DataSets\n",
    "import Models"
   ]
  },
  {
   "cell_type": "code",
   "execution_count": null,
   "metadata": {},
   "outputs": [],
   "source": [
    "#run if needed\n",
    "# NVIDIAのティッカーシンボル（NVDA）\n",
    "ticker = \"NVDA\"\n",
    "# 20年分のデータを取得\n",
    "data = yf.download(ticker, start=\"2004-01-01\", end=\"2024-01-01\")\n",
    "# データを確認\n",
    "print(data.head())"
   ]
  },
  {
   "cell_type": "code",
   "execution_count": null,
   "metadata": {},
   "outputs": [],
   "source": [
    "filename = \"nvidia_20y_stock_data.csv\"\n",
    "data.to_csv(f\"./RawData/{filename}\")"
   ]
  },
  {
   "cell_type": "code",
   "execution_count": null,
   "metadata": {},
   "outputs": [],
   "source": [
    "filename = \"nvidia_20y_stock_data.csv\"\n",
    "data = pd.read_csv(f\"./RawData/{filename}\")\n",
    "print(data.columns)"
   ]
  },
  {
   "cell_type": "markdown",
   "metadata": {},
   "source": [
    "# PreProcess"
   ]
  },
  {
   "cell_type": "code",
   "execution_count": null,
   "metadata": {},
   "outputs": [
    {
     "name": "stderr",
     "output_type": "stream",
     "text": [
      "  0%|          | 0/1 [00:00<?, ?it/s]"
     ]
    },
    {
     "name": "stderr",
     "output_type": "stream",
     "text": [
      "100%|██████████| 1/1 [00:00<00:00, 1618.17it/s]\n",
      "100%|██████████| 1/1 [00:00<00:00,  1.06it/s]\n"
     ]
    }
   ],
   "source": [
    "#load csv file\n",
    "input_path = \"./RawData/nvidia\"\n",
    "output_path = \"./PreProcessedData/nvidia\"\n",
    "train_rate = 0.8\n",
    "eval_rate = 0.1\n",
    "test_rate = 0.1\n",
    "frames_num = 1 # LSTMならseq_lenで設定する\n",
    "pred_future_frame = 1 #次の日 or 3日後 (恐らく土日を挟んでいる)\n",
    "target_cols =  ['Adj Close', 'Close',  'High', 'Low',  'Open', 'Volume']\n",
    "\n",
    "PreProcess = PreProcess.PreProcess(train_rate = train_rate, eval_rate = eval_rate, test_rate = test_rate)\n",
    "PreProcess.preprocess_edit(input_path = input_path, output_path = output_path, pred_future_frame = pred_future_frame, target_cols = target_cols)"
   ]
  },
  {
   "cell_type": "markdown",
   "metadata": {},
   "source": [
    "# Learn"
   ]
  },
  {
   "cell_type": "code",
   "execution_count": 3,
   "metadata": {},
   "outputs": [
    {
     "name": "stdout",
     "output_type": "stream",
     "text": [
      "tensorboard --logdir=runs/Aug_CF_1_20241109171847\n"
     ]
    },
    {
     "ename": "AttributeError",
     "evalue": "'StockPriceDataSet_forLSTM' object has no attribute 'device'",
     "output_type": "error",
     "traceback": [
      "\u001b[0;31m---------------------------------------------------------------------------\u001b[0m",
      "\u001b[0;31mAttributeError\u001b[0m                            Traceback (most recent call last)",
      "Cell \u001b[0;32mIn[3], line 8\u001b[0m\n\u001b[1;32m      6\u001b[0m folder_path \u001b[38;5;241m=\u001b[39m \u001b[38;5;124m\"\u001b[39m\u001b[38;5;124mPreProcessedData/nvidia\u001b[39m\u001b[38;5;124m\"\u001b[39m\n\u001b[1;32m      7\u001b[0m learn \u001b[38;5;241m=\u001b[39m Learn\u001b[38;5;241m.\u001b[39mLearn(points_num \u001b[38;5;241m=\u001b[39m points_num, frames_num \u001b[38;5;241m=\u001b[39m frames_num, pred_future_frame \u001b[38;5;241m=\u001b[39m pred_future_frame, batch_size \u001b[38;5;241m=\u001b[39m batch_size, modelSaveSpan \u001b[38;5;241m=\u001b[39m modelSaveSpan)\n\u001b[0;32m----> 8\u001b[0m loader \u001b[38;5;241m=\u001b[39m \u001b[43mlearn\u001b[49m\u001b[38;5;241;43m.\u001b[39;49m\u001b[43mdata_loader_forLSTM\u001b[49m\u001b[43m(\u001b[49m\u001b[43mfolder_path\u001b[49m\u001b[43m \u001b[49m\u001b[38;5;241;43m=\u001b[39;49m\u001b[43m \u001b[49m\u001b[43mfolder_path\u001b[49m\u001b[43m,\u001b[49m\u001b[43m \u001b[49m\u001b[43mDataSetsClass\u001b[49m\u001b[43m \u001b[49m\u001b[38;5;241;43m=\u001b[39;49m\u001b[43m \u001b[49m\u001b[43mDataSets\u001b[49m\u001b[38;5;241;43m.\u001b[39;49m\u001b[43mStockPriceDataSet_forLSTM\u001b[49m\u001b[43m)\u001b[49m\n\u001b[1;32m      9\u001b[0m criterion, optimizer \u001b[38;5;241m=\u001b[39m learn\u001b[38;5;241m.\u001b[39mnetwork_forLSTM(learning_Model \u001b[38;5;241m=\u001b[39m Models\u001b[38;5;241m.\u001b[39mStockPriceLSTM(input_size \u001b[38;5;241m=\u001b[39m points_num, hidden_size \u001b[38;5;241m=\u001b[39m \u001b[38;5;241m32\u001b[39m, num_layers \u001b[38;5;241m=\u001b[39m \u001b[38;5;241m3\u001b[39m, dropout \u001b[38;5;241m=\u001b[39m \u001b[38;5;241m0.1\u001b[39m, seq_len \u001b[38;5;241m=\u001b[39m \u001b[38;5;241m15\u001b[39m, output_size \u001b[38;5;241m=\u001b[39m \u001b[38;5;241m6\u001b[39m))\n\u001b[1;32m     10\u001b[0m learn\u001b[38;5;241m.\u001b[39mlearn(criterion\u001b[38;5;241m=\u001b[39mcriterion, optimizer\u001b[38;5;241m=\u001b[39moptimizer, n_epochs \u001b[38;5;241m=\u001b[39m \u001b[38;5;241m2500\u001b[39m)\n",
      "File \u001b[0;32m~/大学院用/趣味/StockPrediction/src/Learn.py:95\u001b[0m, in \u001b[0;36mLearn.data_loader_forLSTM\u001b[0;34m(self, folder_path, DataSetsClass)\u001b[0m\n\u001b[1;32m     92\u001b[0m \u001b[38;5;28;01mdef\u001b[39;00m \u001b[38;5;21mdata_loader_forLSTM\u001b[39m(\u001b[38;5;28mself\u001b[39m, folder_path, DataSetsClass):\n\u001b[1;32m     93\u001b[0m     \u001b[38;5;66;03m#データローダの生成\u001b[39;00m\n\u001b[1;32m     94\u001b[0m     \u001b[38;5;28;01mif\u001b[39;00m DataSetsClass \u001b[38;5;241m==\u001b[39m DataSets\u001b[38;5;241m.\u001b[39mStockPriceDataSet_forLSTM:\n\u001b[0;32m---> 95\u001b[0m         \u001b[38;5;28mself\u001b[39m\u001b[38;5;241m.\u001b[39mtrainLoader \u001b[38;5;241m=\u001b[39m DataLoader(\u001b[43mDataSets\u001b[49m\u001b[38;5;241;43m.\u001b[39;49m\u001b[43mStockPriceDataSet_forLSTM\u001b[49m\u001b[43m(\u001b[49m\u001b[38;5;124;43mf\u001b[39;49m\u001b[38;5;124;43m\"\u001b[39;49m\u001b[38;5;132;43;01m{\u001b[39;49;00m\u001b[43mfolder_path\u001b[49m\u001b[38;5;132;43;01m}\u001b[39;49;00m\u001b[38;5;124;43m/Train\u001b[39;49m\u001b[38;5;124;43m\"\u001b[39;49m\u001b[43m,\u001b[49m\u001b[43m \u001b[49m\u001b[43mframes_num\u001b[49m\u001b[38;5;241;43m=\u001b[39;49m\u001b[38;5;28;43mself\u001b[39;49m\u001b[38;5;241;43m.\u001b[39;49m\u001b[43mframes_num\u001b[49m\u001b[43m,\u001b[49m\u001b[43m \u001b[49m\u001b[43mpoints_num\u001b[49m\u001b[38;5;241;43m=\u001b[39;49m\u001b[38;5;28;43mself\u001b[39;49m\u001b[38;5;241;43m.\u001b[39;49m\u001b[43mpoints_num\u001b[49m\u001b[43m)\u001b[49m,batch_size\u001b[38;5;241m=\u001b[39m\u001b[38;5;28mself\u001b[39m\u001b[38;5;241m.\u001b[39mbatch_size, shuffle\u001b[38;5;241m=\u001b[39m\u001b[38;5;28;01mTrue\u001b[39;00m)\n\u001b[1;32m     96\u001b[0m         \u001b[38;5;28mself\u001b[39m\u001b[38;5;241m.\u001b[39mtrainLoader\u001b[38;5;241m.\u001b[39mdataset\u001b[38;5;241m.\u001b[39muse_augmentation \u001b[38;5;241m=\u001b[39m \u001b[38;5;28mself\u001b[39m\u001b[38;5;241m.\u001b[39museAugmentation\n\u001b[1;32m     97\u001b[0m         \u001b[38;5;28mself\u001b[39m\u001b[38;5;241m.\u001b[39mevalLoader \u001b[38;5;241m=\u001b[39m DataLoader(DataSets\u001b[38;5;241m.\u001b[39mSelectedPointsHumanPoseDataFolder_forLSTM(\u001b[38;5;124mf\u001b[39m\u001b[38;5;124m\"\u001b[39m\u001b[38;5;132;01m{\u001b[39;00mfolder_path\u001b[38;5;132;01m}\u001b[39;00m\u001b[38;5;124m/Eval\u001b[39m\u001b[38;5;124m\"\u001b[39m, frames_num\u001b[38;5;241m=\u001b[39m\u001b[38;5;28mself\u001b[39m\u001b[38;5;241m.\u001b[39mframes_num, points_num\u001b[38;5;241m=\u001b[39m\u001b[38;5;28mself\u001b[39m\u001b[38;5;241m.\u001b[39mpoints_num),batch_size\u001b[38;5;241m=\u001b[39m\u001b[38;5;28mself\u001b[39m\u001b[38;5;241m.\u001b[39mbatch_size, shuffle\u001b[38;5;241m=\u001b[39m\u001b[38;5;28;01mTrue\u001b[39;00m)\n",
      "File \u001b[0;32m~/大学院用/趣味/StockPrediction/src/DataSets.py:249\u001b[0m, in \u001b[0;36mStockPriceDataSet_forLSTM.__init__\u001b[0;34m(self, dataDir, points_num, frames_num)\u001b[0m\n\u001b[1;32m    246\u001b[0m     \u001b[38;5;28mself\u001b[39m\u001b[38;5;241m.\u001b[39mdirZ_in[i, \u001b[38;5;241m1\u001b[39m] \u001b[38;5;241m=\u001b[39m \u001b[38;5;241m1\u001b[39m\n\u001b[1;32m    248\u001b[0m \u001b[38;5;66;03m# to cuda\u001b[39;00m\n\u001b[0;32m--> 249\u001b[0m \u001b[38;5;28mself\u001b[39m\u001b[38;5;241m.\u001b[39mdirX_in \u001b[38;5;241m=\u001b[39m \u001b[38;5;28mself\u001b[39m\u001b[38;5;241m.\u001b[39mdirX_in\u001b[38;5;241m.\u001b[39mto(\u001b[38;5;28;43mself\u001b[39;49m\u001b[38;5;241;43m.\u001b[39;49m\u001b[43mdevice\u001b[49m)\n\u001b[1;32m    250\u001b[0m \u001b[38;5;28mself\u001b[39m\u001b[38;5;241m.\u001b[39mdirZ_in \u001b[38;5;241m=\u001b[39m \u001b[38;5;28mself\u001b[39m\u001b[38;5;241m.\u001b[39mdirZ_in\u001b[38;5;241m.\u001b[39mto(\u001b[38;5;28mself\u001b[39m\u001b[38;5;241m.\u001b[39mdevice)\n\u001b[1;32m    251\u001b[0m \u001b[38;5;28mself\u001b[39m\u001b[38;5;241m.\u001b[39mdirX_out \u001b[38;5;241m=\u001b[39m \u001b[38;5;28mself\u001b[39m\u001b[38;5;241m.\u001b[39mdirX_out\u001b[38;5;241m.\u001b[39mto(\u001b[38;5;28mself\u001b[39m\u001b[38;5;241m.\u001b[39mdevice)\n",
      "\u001b[0;31mAttributeError\u001b[0m: 'StockPriceDataSet_forLSTM' object has no attribute 'device'"
     ]
    }
   ],
   "source": [
    "points_num = 6\n",
    "frames_num = 1\n",
    "pred_future_frame = 1\n",
    "batch_size = 10\n",
    "modelSaveSpan = 10\n",
    "folder_path = \"PreProcessedData/nvidia\"\n",
    "learn = Learn.Learn(points_num = points_num, frames_num = frames_num, pred_future_frame = pred_future_frame, batch_size = batch_size, modelSaveSpan = modelSaveSpan)\n",
    "loader = learn.data_loader_forLSTM(folder_path = folder_path, DataSetsClass = DataSets.StockPriceDataSet_forLSTM)\n",
    "criterion, optimizer = learn.network_forLSTM(learning_Model = Models.StockPriceLSTM(input_size = points_num, hidden_size = 32, num_layers = 3, dropout = 0.1, seq_len = 15, output_size = 6))\n",
    "learn.learn(criterion=criterion, optimizer=optimizer, n_epochs = 2500)"
   ]
  }
 ],
 "metadata": {
  "kernelspec": {
   "display_name": "venv_Mac",
   "language": "python",
   "name": "python3"
  },
  "language_info": {
   "codemirror_mode": {
    "name": "ipython",
    "version": 3
   },
   "file_extension": ".py",
   "mimetype": "text/x-python",
   "name": "python",
   "nbconvert_exporter": "python",
   "pygments_lexer": "ipython3",
   "version": "3.12.3"
  }
 },
 "nbformat": 4,
 "nbformat_minor": 2
}
